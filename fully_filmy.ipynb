{
 "cells": [
  {
   "cell_type": "code",
   "execution_count": 85,
   "id": "4d0b4250",
   "metadata": {},
   "outputs": [],
   "source": [
    "import requests\n",
    "import pandas\n",
    "from bs4 import BeautifulSoup"
   ]
  },
  {
   "cell_type": "code",
   "execution_count": 97,
   "id": "2cfd3bdd",
   "metadata": {
    "scrolled": true
   },
   "outputs": [],
   "source": [
    "BASE_URL = \"https://fullyfilmy.in/collections/t-shirts?page=\"\n",
    "l = []\n",
    "for a in range(1,11):\n",
    "    link=BASE_URL+str(a)\n",
    "    r = requests.get(link)\n",
    "    c = r.content\n",
    "    soup = BeautifulSoup(c,\"html.parser\")\n",
    "    container = soup.find_all(\"div\",{\"class\": \"product-content-wrapper\"})\n",
    "    for titles in container:\n",
    "        d = {} \n",
    "        d['name'] = titles.find_all(\"div\",{\"class\":\"name\"})[0].text\n",
    "        d['price'] = titles.find_all(\"span\",{\"class\":\"price-new\"})[0].text\n",
    "        l.append(d)\n"
   ]
  },
  {
   "cell_type": "code",
   "execution_count": 99,
   "id": "ae003ad4",
   "metadata": {},
   "outputs": [],
   "source": [
    "df = pandas.DataFrame(l)\n",
    "df\n",
    "df.to_csv(\"output.csv\")"
   ]
  }
 ],
 "metadata": {
  "kernelspec": {
   "display_name": "Python 3 (ipykernel)",
   "language": "python",
   "name": "python3"
  },
  "language_info": {
   "codemirror_mode": {
    "name": "ipython",
    "version": 3
   },
   "file_extension": ".py",
   "mimetype": "text/x-python",
   "name": "python",
   "nbconvert_exporter": "python",
   "pygments_lexer": "ipython3",
   "version": "3.9.0"
  }
 },
 "nbformat": 4,
 "nbformat_minor": 5
}
