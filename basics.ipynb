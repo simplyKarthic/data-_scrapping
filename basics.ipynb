{
 "cells": [
  {
   "cell_type": "code",
   "execution_count": 1,
   "id": "36f8c645",
   "metadata": {},
   "outputs": [],
   "source": [
    "import requests\n",
    "from bs4 import BeautifulSoup"
   ]
  },
  {
   "cell_type": "code",
   "execution_count": 5,
   "id": "844a292b",
   "metadata": {},
   "outputs": [],
   "source": [
    "#get data rom the site\n",
    "r = requests.get(\"http://www.hesperusinfo.com/\")\n",
    "#extract only the html content\n",
    "c = r.content"
   ]
  },
  {
   "cell_type": "code",
   "execution_count": 13,
   "id": "a3a07b0e",
   "metadata": {},
   "outputs": [],
   "source": [
    "# make the html code readable\n",
    "soup =  BeautifulSoup(c,\"html.parser\")"
   ]
  },
  {
   "cell_type": "code",
   "execution_count": 18,
   "id": "3bfc2f38",
   "metadata": {},
   "outputs": [
    {
     "data": {
      "text/plain": [
       "[<h5 class=\"card-title\"><a href=\"#Warehouse Process\">Warehouse Process</a></h5>,\n",
       " <h5 class=\"card-title\"><a href=\"#PackagedSolutions\">Packaged Solutions</a></h5>,\n",
       " <h5 class=\"card-title\"><a href=\"#Industry-Automations\">Industry Automation</a></h5>,\n",
       " <h5 class=\"card-title\"><a href=\"#Identification_Solutions\">Identification Solutions</a></h5>,\n",
       " <h5 class=\"card-title\"><a href=\"#Engineering-Design\">Engineering Design </a></h5>,\n",
       " <h5 class=\"card-title\"><a href=\"#training\">IT &amp; Engineering Trainings</a></h5>,\n",
       " <h5 class=\"card-title\"><a href=\"#Analysis\">Engineering Analysis</a></h5>,\n",
       " <h5 class=\"card-title\"><a href=\"#AI-machine-learning\">AI and Machine Learning</a></h5>]"
      ]
     },
     "execution_count": 18,
     "metadata": {},
     "output_type": "execute_result"
    }
   ],
   "source": [
    "a = soup.find_all(\"h5\",{\"class\":\"card-title\"})\n",
    "a"
   ]
  },
  {
   "cell_type": "code",
   "execution_count": 27,
   "id": "40cdb906",
   "metadata": {},
   "outputs": [
    {
     "data": {
      "text/plain": [
       "'Warehouse Process'"
      ]
     },
     "execution_count": 27,
     "metadata": {},
     "output_type": "execute_result"
    }
   ],
   "source": [
    "a[0].find_all(\"a\")[0].text"
   ]
  },
  {
   "cell_type": "code",
   "execution_count": 28,
   "id": "9ea51968",
   "metadata": {},
   "outputs": [
    {
     "name": "stdout",
     "output_type": "stream",
     "text": [
      "Warehouse Process\n",
      "Packaged Solutions\n",
      "Industry Automation\n",
      "Identification Solutions\n",
      "Engineering Design \n",
      "IT & Engineering Trainings\n",
      "Engineering Analysis\n",
      "AI and Machine Learning\n"
     ]
    }
   ],
   "source": [
    "for item in a:\n",
    "    print(item.find_all(\"a\")[0].text)"
   ]
  }
 ],
 "metadata": {
  "kernelspec": {
   "display_name": "Python 3 (ipykernel)",
   "language": "python",
   "name": "python3"
  },
  "language_info": {
   "codemirror_mode": {
    "name": "ipython",
    "version": 3
   },
   "file_extension": ".py",
   "mimetype": "text/x-python",
   "name": "python",
   "nbconvert_exporter": "python",
   "pygments_lexer": "ipython3",
   "version": "3.9.0"
  }
 },
 "nbformat": 4,
 "nbformat_minor": 5
}
