{
 "cells": [
  {
   "cell_type": "code",
   "execution_count": 2,
   "id": "266f87a5",
   "metadata": {},
   "outputs": [
    {
     "data": {
      "text/plain": [
       "[]"
      ]
     },
     "execution_count": 2,
     "metadata": {},
     "output_type": "execute_result"
    }
   ],
   "source": [
    "import requests\n",
    "from bs4 import BeautifulSoup\n",
    "r = requests.get(\"https://simplykarthic.wordpress.com/\")\n",
    "c = r.content\n",
    "soup = BeautifulSoup(c, \"html.parser\")\n",
    "\n",
    "a = soup.find_all(\"h2\", {\"class\": \"entry-title\"})\n",
    "b = soup.find_all(\"p\",{\"class\": None,\"id\": None})\n",
    "c = soup.find_all(\"time\", {\"class\": \"entry-date\"})\n",
    "d = soup.find_all(\"h2\",{\"class\": \"entry-title\"},href=True)\n",
    "d"
   ]
  },
  {
   "cell_type": "code",
   "execution_count": 59,
   "id": "ed40e7f1",
   "metadata": {},
   "outputs": [],
   "source": [
    "Recent_title=[]\n",
    "Recent_des=[]\n",
    "Recent_date=[]\n",
    "for text in a:\n",
    "    temp = text.find_all(\"a\")[0].text\n",
    "    Recent_title.append(temp)\n",
    "for des in b:\n",
    "    tempr = des.text\n",
    "    Recent_des.append(tempr)\n",
    "for dat in c:\n",
    "    tempre = dat.text\n",
    "    Recent_date.append(tempre) "
   ]
  },
  {
   "cell_type": "code",
   "execution_count": 61,
   "id": "d906dd1a",
   "metadata": {},
   "outputs": [
    {
     "name": "stdout",
     "output_type": "stream",
     "text": [
      "Entry 5: Your Parents\n",
      "I was not really close to my parents, the difference between me and them can never be treated. the generation gap is manageable but still, the unexpressed emotions cannot be…\n",
      "August 24, 2021\n",
      "\n",
      "Entry 4 : Places I want to visit.\n",
      "Me and Travel. We always have a complicated Relationship. its hard to explain lets get into the list. I never traveled through a airplane so that’s definitely a thing to…\n",
      "May 12, 2021\n",
      "\n",
      "Entry 3: A Memory\n",
      "Lots of bad memories crossed my mind but I decided to go with a good one here is the story I was around 12 years old and a little overweight…\n",
      "September 24, 2020\n",
      "\n",
      "Entry 2: Things That Make You Happy.\n",
      "In the last answer, I mentioned the problem of laughing in some serious situations well you can call it nervous laughter. Scenarios like these make me nervous and I don’t…\n",
      "August 31, 2020\n",
      "\n"
     ]
    }
   ],
   "source": [
    "for i in range(4):\n",
    "    print(Recent_list[i])\n",
    "    print(Recent_des[i])\n",
    "    print(Recent_date[i])\n",
    "    print(\"\")"
   ]
  },
  {
   "cell_type": "code",
   "execution_count": null,
   "id": "54bfdd9b",
   "metadata": {},
   "outputs": [],
   "source": []
  }
 ],
 "metadata": {
  "kernelspec": {
   "display_name": "Python 3 (ipykernel)",
   "language": "python",
   "name": "python3"
  },
  "language_info": {
   "codemirror_mode": {
    "name": "ipython",
    "version": 3
   },
   "file_extension": ".py",
   "mimetype": "text/x-python",
   "name": "python",
   "nbconvert_exporter": "python",
   "pygments_lexer": "ipython3",
   "version": "3.9.0"
  }
 },
 "nbformat": 4,
 "nbformat_minor": 5
}
